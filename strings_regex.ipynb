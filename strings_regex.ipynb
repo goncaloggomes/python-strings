{
 "cells": [
  {
   "cell_type": "markdown",
   "metadata": {},
   "source": [
    "# String Super Skills: **Regex**"
   ]
  },
  {
   "cell_type": "markdown",
   "metadata": {},
   "source": [
    "`Regex` stands for Regular Expression and it describes a special sequence of characters used to search and manipulate words, digits, or other characters in text strings."
   ]
  },
  {
   "cell_type": "markdown",
   "metadata": {},
   "source": [
    "Let’s import the re module, unlocking everything related to Regex in python, and also define a few texts on which we will be working on with some examples throughout this notebook."
   ]
  },
  {
   "cell_type": "code",
   "execution_count": 1,
   "metadata": {},
   "outputs": [],
   "source": [
    "import pandas as pd\n",
    "import re"
   ]
  },
  {
   "cell_type": "code",
   "execution_count": 2,
   "metadata": {},
   "outputs": [],
   "source": [
    "# Assigning a text\n",
    "\n",
    "text = \"If it is written in PYTHON, it's probably machine learning\""
   ]
  },
  {
   "cell_type": "markdown",
   "metadata": {},
   "source": [
    "#### `re.findall()`"
   ]
  },
  {
   "cell_type": "markdown",
   "metadata": {},
   "source": [
    "The `re` module has a set of functions that allow us to search for, return and replace a string or any part of a string. We start by the `findall()` function which returns a list containing all occurrences."
   ]
  },
  {
   "cell_type": "code",
   "execution_count": 3,
   "metadata": {},
   "outputs": [
    {
     "name": "stdout",
     "output_type": "stream",
     "text": [
      "['If it is written in PYTHON']\n"
     ]
    }
   ],
   "source": [
    "regex = re.findall(r'.*PYTHON',text)\n",
    "print(regex)"
   ]
  },
  {
   "cell_type": "markdown",
   "metadata": {},
   "source": [
    "Understanding: firstly, the findall() function returns a list of occurrences in the same order it finds it. Secondly, the ‘r’ is at the beginning to ensure that the string is seen as a “raw string”.\n",
    "\n",
    "The `‘.*PYTHON’` part: We want to return everything until the word PYTHON, inclusive. Therefore, .* is some sort of a trump symbol, in the sense that * repeats everything zero or more times, until it finds the star, and . tells the star to return everything it finds, be it letters, numbers, symbols or spaces.\n",
    "\n",
    "If we invert the command, we receive the other half of the sentence, see an example."
   ]
  },
  {
   "cell_type": "markdown",
   "metadata": {},
   "source": [
    "rx = re.findall('python.*',text, flags=re.IGNORECASE)\n",
    "print(rx)"
   ]
  },
  {
   "cell_type": "markdown",
   "metadata": {},
   "source": [
    "Setting `re.flags` to ignore-case so it matches either if it finds the occurrence in upper or lower cases."
   ]
  },
  {
   "cell_type": "code",
   "execution_count": 4,
   "metadata": {},
   "outputs": [
    {
     "name": "stdout",
     "output_type": "stream",
     "text": [
      "[\"PYTHON, it's probably machine learning\"]\n"
     ]
    }
   ],
   "source": [
    "rx = re.findall('PYTHON.*',text)\n",
    "print(rx)"
   ]
  },
  {
   "cell_type": "markdown",
   "metadata": {},
   "source": [
    "From this point on, we can build a series of possibilities."
   ]
  },
  {
   "cell_type": "code",
   "execution_count": 5,
   "metadata": {},
   "outputs": [
    {
     "name": "stdout",
     "output_type": "stream",
     "text": [
      "[\"written in PYTHON, it's probably machine\"]\n"
     ]
    }
   ],
   "source": [
    "regex = re.findall('written.*machine', text)\n",
    "print(regex)"
   ]
  },
  {
   "cell_type": "code",
   "execution_count": 6,
   "metadata": {},
   "outputs": [
    {
     "name": "stdout",
     "output_type": "stream",
     "text": [
      "[\"tten in PYTHON, it's probabl\"]\n"
     ]
    }
   ],
   "source": [
    "regex = re.findall('tt.*bl', text)\n",
    "print(regex)"
   ]
  },
  {
   "cell_type": "markdown",
   "metadata": {},
   "source": [
    "Check if a string starts with (symbol ^) or ends with (symbol $) a specific character.\n",
    "\n",
    "- ^ Evaluates and matches the start of a string (it is the same as \\A )\n",
    "- \\w+ Matches and returns the alphanumeric character in the string\n",
    "\n",
    "If we remove the symbol + we receive only the first character."
   ]
  },
  {
   "cell_type": "code",
   "execution_count": 7,
   "metadata": {},
   "outputs": [
    {
     "name": "stdout",
     "output_type": "stream",
     "text": [
      "['If']\n"
     ]
    }
   ],
   "source": [
    "rx = re.findall('^\\w+', text)\n",
    "print(rx)"
   ]
  },
  {
   "cell_type": "markdown",
   "metadata": {},
   "source": [
    "`rx = re.findall('learning$', text)\n",
    "print(rx)`"
   ]
  },
  {
   "cell_type": "code",
   "execution_count": 8,
   "metadata": {},
   "outputs": [
    {
     "name": "stdout",
     "output_type": "stream",
     "text": [
      "['learning']\n"
     ]
    }
   ],
   "source": [
    "rx = re.findall('learning$', text)\n",
    "print(rx)"
   ]
  },
  {
   "cell_type": "markdown",
   "metadata": {},
   "source": [
    "If doesn’t match, we receive an empty list.\n",
    "\n",
    "Every time a character matches as much as it can it is said to be Greedy. The symbol ? checks if the next character matches zero or one time starting from that exact position. Meaning it specifies a non-greedy version of * and + ."
   ]
  },
  {
   "cell_type": "code",
   "execution_count": 9,
   "metadata": {},
   "outputs": [
    {
     "name": "stdout",
     "output_type": "stream",
     "text": [
      "[' it ', ' written ', ' PYTHON, ', ' probably ']\n"
     ]
    }
   ],
   "source": [
    "rx = re.findall(r' .*? ', text)\n",
    "print(rx)"
   ]
  },
  {
   "cell_type": "markdown",
   "metadata": {},
   "source": [
    "`Braces`\n",
    "\n",
    "The character **Braces `{b,n}`** is used when we want to check at least **`b`** times, and at most **`n`** times, of the pattern."
   ]
  },
  {
   "cell_type": "code",
   "execution_count": 10,
   "metadata": {},
   "outputs": [
    {
     "name": "stdout",
     "output_type": "stream",
     "text": [
      "['i', 't', 'i', 'i', 'tt', 'i', 'i', 't', 'i', 'i']\n"
     ]
    }
   ],
   "source": [
    "rx = re.findall(r'(t{1,4}|i{1,})', text)\n",
    "print(rx)"
   ]
  },
  {
   "cell_type": "markdown",
   "metadata": {},
   "source": [
    "In the next example, we are asking to check at least 1 `t` and at the most 4 `t` and we get this exact result.\n",
    "\n",
    "On the other hand, we are also checking for at least 1 `e` and at the most 3 `e`, but as you can see there are 4 `e` in a row, meaning that the 4 `e` will be split into a group of 3 and that is the reason we get a remaining single `e`."
   ]
  },
  {
   "cell_type": "code",
   "execution_count": 11,
   "metadata": {},
   "outputs": [
    {
     "name": "stdout",
     "output_type": "stream",
     "text": [
      "['tttt', 'e', 'eee', 'e']\n"
     ]
    }
   ],
   "source": [
    "rx = re.findall(r'(t{1,4}|e{1,3})', 'listttt compreheeeension')\n",
    "print(rx)"
   ]
  },
  {
   "cell_type": "markdown",
   "metadata": {},
   "source": [
    "`Square brackets`\n",
    "\n",
    "The use of **square brackets []** specifies a set of characters that we want to match. For example, `[abc]` has 1 match with `a`, has 3 matches with `cab`, and no match with `hello`.\n",
    "\n",
    "So, we can specify a range of values using (symbol -) inside square brackets. Thus, `[a-d]` is the same as `[abcd]`, and the range `[1-4]` is the same as `[1234]`, and so on.\n",
    "\n",
    "Following the same reasoning, the range `[a-z]` matches with any lower case letter and `[A-Z]` with any upper case. If setting the combination of `[a-zA-Z]` we’re checking both upper and lower at the same time. Let’s try with some examples."
   ]
  },
  {
   "cell_type": "code",
   "execution_count": 12,
   "metadata": {},
   "outputs": [],
   "source": [
    "# assigning new text\n",
    "\n",
    "alpha_num = \"Hello 1234\""
   ]
  },
  {
   "cell_type": "code",
   "execution_count": 13,
   "metadata": {},
   "outputs": [
    {
     "name": "stdout",
     "output_type": "stream",
     "text": [
      "['a', 'l', 'p', 'h', 'a', 'n', 'u', 'm']\n"
     ]
    }
   ],
   "source": [
    "rx = re.findall(r'[a-z]', 'alpha_num')\n",
    "print(rx)"
   ]
  },
  {
   "cell_type": "code",
   "execution_count": 14,
   "metadata": {},
   "outputs": [
    {
     "name": "stdout",
     "output_type": "stream",
     "text": [
      "['H', 'e', 'l', 'l', 'o']\n"
     ]
    }
   ],
   "source": [
    "rx = re.findall(r'[a-zA-Z]', 'Hello 1234')\n",
    "print(rx)"
   ]
  },
  {
   "cell_type": "code",
   "execution_count": 15,
   "metadata": {},
   "outputs": [
    {
     "name": "stdout",
     "output_type": "stream",
     "text": [
      "['H', 'e', 'l', 'l', 'o', '1', '2', '3', '4']\n"
     ]
    }
   ],
   "source": [
    "rx = re.findall(r'[a-zA-Z0-9]', 'Hello 1234')\n",
    "print(rx)"
   ]
  },
  {
   "cell_type": "markdown",
   "metadata": {},
   "source": [
    "What if we add the symbol +, what would happen?"
   ]
  },
  {
   "cell_type": "code",
   "execution_count": 16,
   "metadata": {},
   "outputs": [
    {
     "name": "stdout",
     "output_type": "stream",
     "text": [
      "['Hello', '1234']\n"
     ]
    }
   ],
   "source": [
    "rx = re.findall(r'[a-zA-Z0-9]+', 'Hello 1234')\n",
    "print(rx)"
   ]
  },
  {
   "cell_type": "markdown",
   "metadata": {},
   "source": [
    "*Tip:* if the first character inside the set is ^ , everything outside of the set will be matched."
   ]
  },
  {
   "cell_type": "code",
   "execution_count": 17,
   "metadata": {},
   "outputs": [
    {
     "name": "stdout",
     "output_type": "stream",
     "text": [
      "['1234']\n"
     ]
    }
   ],
   "source": [
    "rx = re.findall(r'[^a-zA-Z ]+', 'Hello 1234')\n",
    "print(rx)"
   ]
  },
  {
   "cell_type": "markdown",
   "metadata": {},
   "source": [
    "`Special Sequences` \n",
    "\n",
    "These are written with the backslash \\ followed by the desired character (and its meaning).\n",
    "\n",
    "- \\w -As already seen earlier, returns a match where the string contains letters, numbers, and the underscore\n",
    "- \\W -Returns every non-alpha-numeric character\n",
    "-\\d -Returns a match where the string contains digits from zero to nine (0–9)\n",
    "\n",
    "If the star `*` repeats everything zero or more times, the sign `+` repeats everything one or more times. So what’s the difference? Let us create another string to exemplify and take a closer look."
   ]
  },
  {
   "cell_type": "code",
   "execution_count": 18,
   "metadata": {},
   "outputs": [],
   "source": [
    "# assigning new text\n",
    "\n",
    "letters_numbers = \"The letter A, the character * and the numbers 11, 222 and 3456.\""
   ]
  },
  {
   "cell_type": "code",
   "execution_count": 19,
   "metadata": {},
   "outputs": [
    {
     "name": "stdout",
     "output_type": "stream",
     "text": [
      "['T', 'h', 'e', 'l', 'e', 't', 't', 'e', 'r', 'A', 't', 'h', 'e', 'c', 'h', 'a', 'r', 'a', 'c', 't', 'e', 'r', 'a', 'n', 'd', 't', 'h', 'e', 'n', 'u', 'm', 'b', 'e', 'r', 's', '1', '1', '2', '2', '2', 'a', 'n', 'd', '3', '4', '5', '6']\n"
     ]
    }
   ],
   "source": [
    "rx = re.findall('\\w', letters_numbers)\n",
    "print(rx)"
   ]
  },
  {
   "cell_type": "markdown",
   "metadata": {},
   "source": [
    "Instead, if we add the symbol +, what would be the difference?"
   ]
  },
  {
   "cell_type": "code",
   "execution_count": 20,
   "metadata": {},
   "outputs": [
    {
     "name": "stdout",
     "output_type": "stream",
     "text": [
      "['The', 'letter', 'A', 'the', 'character', 'and', 'the', 'numbers', '11', '222', 'and', '3456']\n"
     ]
    }
   ],
   "source": [
    "rx = re.findall('\\w+', letters_numbers)\n",
    "print(rx)"
   ]
  },
  {
   "cell_type": "code",
   "execution_count": 21,
   "metadata": {},
   "outputs": [
    {
     "name": "stdout",
     "output_type": "stream",
     "text": [
      "[' ', ' ', ',', ' ', ' ', ' ', '*', ' ', ' ', ' ', ' ', ',', ' ', ' ', ' ', '.']\n"
     ]
    }
   ],
   "source": [
    "rx = re.findall('\\W', letters_numbers)\n",
    "print(rx)"
   ]
  },
  {
   "cell_type": "markdown",
   "metadata": {},
   "source": [
    "Only extracting digits:"
   ]
  },
  {
   "cell_type": "code",
   "execution_count": 22,
   "metadata": {},
   "outputs": [
    {
     "name": "stdout",
     "output_type": "stream",
     "text": [
      "['11', '222', '3456']\n"
     ]
    }
   ],
   "source": [
    "rx = re.findall('\\d+', letters_numbers)\n",
    "print(rx)"
   ]
  },
  {
   "cell_type": "code",
   "execution_count": 23,
   "metadata": {},
   "outputs": [
    {
     "name": "stdout",
     "output_type": "stream",
     "text": [
      "['222', '3456']\n"
     ]
    }
   ],
   "source": [
    "rx = re.findall('\\d{3,}', letters_numbers)\n",
    "print(rx)"
   ]
  },
  {
   "cell_type": "markdown",
   "metadata": {},
   "source": [
    "Now imagine that we want to extract only the uppercase words from the string in groups of two elements."
   ]
  },
  {
   "cell_type": "code",
   "execution_count": 24,
   "metadata": {},
   "outputs": [],
   "source": [
    "upper_extract = \"Regex is very NICE for finding and processing text in PYTHON\""
   ]
  },
  {
   "cell_type": "code",
   "execution_count": 25,
   "metadata": {},
   "outputs": [
    {
     "name": "stdout",
     "output_type": "stream",
     "text": [
      "['NICE', 'PYTHON']\n"
     ]
    }
   ],
   "source": [
    "rx = re.findall('([A-Z]{2,})', upper_extract)\n",
    "print(rx)"
   ]
  },
  {
   "cell_type": "markdown",
   "metadata": {},
   "source": [
    "#### `re.split()`\n",
    "\n",
    "The split method can be handy since it splits the string when it finds a match and returns a list of strings from the exact split."
   ]
  },
  {
   "cell_type": "code",
   "execution_count": 26,
   "metadata": {},
   "outputs": [],
   "source": [
    "# Assigning a new text\n",
    "\n",
    "numbers = 'The air we breath is made up of 78% nitrogen, 21% oxygen and 1% of other stuff.'"
   ]
  },
  {
   "cell_type": "code",
   "execution_count": 27,
   "metadata": {},
   "outputs": [
    {
     "name": "stdout",
     "output_type": "stream",
     "text": [
      "['The air we breath is made up of ', '% nitrogen, ', '% oxygen and ', '% of other stuff.']\n"
     ]
    }
   ],
   "source": [
    "rx = re.split(r'\\d+', numbers)\n",
    "print(rx)"
   ]
  },
  {
   "cell_type": "markdown",
   "metadata": {},
   "source": [
    "If the pattern doesn’t match, the original string is returned.\n",
    "\n",
    "A useful resource is to set the maximum splits that are possible to occur. We can set this by passing the maxsplit argument into the `re.split()` method."
   ]
  },
  {
   "cell_type": "code",
   "execution_count": 28,
   "metadata": {},
   "outputs": [
    {
     "name": "stdout",
     "output_type": "stream",
     "text": [
      "['The air we breath is made up of ', '% nitrogen, 21% oxygen and 1% of other stuff.']\n"
     ]
    }
   ],
   "source": [
    "rx = re.split(r'\\d+', numbers, 1)\n",
    "print(rx)"
   ]
  },
  {
   "cell_type": "markdown",
   "metadata": {},
   "source": [
    "In the next example, set the split at each white-space characater only at the five first occurrences."
   ]
  },
  {
   "cell_type": "code",
   "execution_count": 29,
   "metadata": {},
   "outputs": [
    {
     "name": "stdout",
     "output_type": "stream",
     "text": [
      "['The', 'air', 'we', 'breath', 'is', 'made up of 78% nitrogen, 21% oxygen and 1% of other stuff.']\n"
     ]
    }
   ],
   "source": [
    "rx = re.split(r'\\s', numbers, 5)\n",
    "print(rx)"
   ]
  },
  {
   "cell_type": "markdown",
   "metadata": {},
   "source": [
    "#### `re.sub()`\n",
    "\n",
    "Sub stands for SubString and with this method on your side you replace any matches by any text at any time.\n",
    "\n",
    "The syntaxt is simple: `re.sub(pattern, replacement, string)`.\n",
    "\n",
    "Other parameters can be added such the maximum times the replacement occurs, case-sensivity, etc."
   ]
  },
  {
   "cell_type": "code",
   "execution_count": 30,
   "metadata": {},
   "outputs": [],
   "source": [
    "text = \"If it is written in PYTHON, it's probably machine learning\""
   ]
  },
  {
   "cell_type": "code",
   "execution_count": 31,
   "metadata": {},
   "outputs": [
    {
     "name": "stdout",
     "output_type": "stream",
     "text": [
      "If it is coded in PYTHON, it's probably machine learning\n"
     ]
    }
   ],
   "source": [
    "rx = re.sub(r'written', 'coded', text)\n",
    "print(rx)"
   ]
  },
  {
   "cell_type": "code",
   "execution_count": 32,
   "metadata": {},
   "outputs": [
    {
     "name": "stdout",
     "output_type": "stream",
     "text": [
      "If THAT is wrTHATten in PYTHON, THAT's probably machine learning\n"
     ]
    }
   ],
   "source": [
    "rx = re.sub(r'it', 'THAT', text)\n",
    "print(rx)"
   ]
  },
  {
   "cell_type": "markdown",
   "metadata": {},
   "source": [
    "In the next example, all we want is replacing ‘it’ by ‘THAT’ but only in the first occurence."
   ]
  },
  {
   "cell_type": "code",
   "execution_count": 33,
   "metadata": {},
   "outputs": [
    {
     "name": "stdout",
     "output_type": "stream",
     "text": [
      "If THAT is written in PYTHON, it's probably machine learning\n"
     ]
    }
   ],
   "source": [
    "rx = re.sub(r'it', 'THAT', text, count=1)\n",
    "print(rx)"
   ]
  },
  {
   "cell_type": "markdown",
   "metadata": {},
   "source": [
    "In the next example, will split by both white-spaces before and after the word ‘PYTHON’ and replace it with ‘code’. Setting to ignore-case so does not matter if we type ‘PYthon’ this way."
   ]
  },
  {
   "cell_type": "code",
   "execution_count": 34,
   "metadata": {},
   "outputs": [
    {
     "name": "stdout",
     "output_type": "stream",
     "text": [
      "If it is written in code, it's probably machine learning\n"
     ]
    }
   ],
   "source": [
    "rx = re.sub(r'\\sPYthon,\\s', ' code, ', text, flags=re.IGNORECASE)\n",
    "print(rx)"
   ]
  },
  {
   "cell_type": "markdown",
   "metadata": {},
   "source": [
    "#### `re.subn()`\n",
    "\n",
    "The `re.subn()` produces the same as `re.sub()` except it returns the number of replacements made."
   ]
  },
  {
   "cell_type": "code",
   "execution_count": 35,
   "metadata": {},
   "outputs": [
    {
     "name": "stdout",
     "output_type": "stream",
     "text": [
      "(\"If THAT is wrTHATten in PYTHON, THAT's probably machine learning\", 3)\n"
     ]
    }
   ],
   "source": [
    "rx = re.subn(r'it', 'THAT', text)\n",
    "print(rx)"
   ]
  },
  {
   "cell_type": "markdown",
   "metadata": {},
   "source": [
    "---"
   ]
  },
  {
   "cell_type": "markdown",
   "metadata": {},
   "source": [
    "Author: Gonçalo Guimarães Gomes"
   ]
  }
 ],
 "metadata": {
  "kernelspec": {
   "display_name": "Python 3",
   "language": "python",
   "name": "python3"
  },
  "language_info": {
   "codemirror_mode": {
    "name": "ipython",
    "version": 3
   },
   "file_extension": ".py",
   "mimetype": "text/x-python",
   "name": "python",
   "nbconvert_exporter": "python",
   "pygments_lexer": "ipython3",
   "version": "3.7.6"
  }
 },
 "nbformat": 4,
 "nbformat_minor": 4
}
